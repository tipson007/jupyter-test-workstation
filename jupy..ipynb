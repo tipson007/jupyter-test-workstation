{
 "cells": [
  {
   "cell_type": "code",
   "execution_count": 5,
   "metadata": {},
   "outputs": [],
   "source": [
    "import boto3\n",
    "\n",
    "# Let's use Amazon S3\n",
    "s3 = boto3.resource('s3')"
   ]
  },
  {
   "cell_type": "code",
   "execution_count": 4,
   "metadata": {},
   "outputs": [
    {
     "name": "stdout",
     "output_type": "stream",
     "text": [
      "alexapollysound\n",
      "aws-cloudtrail-logs-994833971943-5f1cbf78\n",
      "aws-codestar-us-west-2-994833971943\n",
      "aws-codestar-us-west-2-994833971943-my-musician-app-pipe\n",
      "cf-templates-rb5g5o9qeqo0-eu-central-1\n",
      "cf-templates-rb5g5o9qeqo0-us-east-1\n",
      "codepipeline-us-east-2-923806125422\n",
      "codepipeline-us-west-2-809941331542\n",
      "elasticbeanstalk-us-east-1-994833971943\n",
      "elasticbeanstalk-us-east-2-994833971943\n",
      "elasticbeanstalk-us-west-2-994833971943\n",
      "ex3.1\n",
      "mydbprod\n",
      "mylambdabucket908765\n",
      "sagemakerbucket001\n",
      "serverlesscloud\n",
      "terraform-state-primary-bucket\n"
     ]
    }
   ],
   "source": [
    "s3 = boto3.resource('s3')\n",
    "for bucket in s3.buckets.all():\n",
    "    print(bucket.name)"
   ]
  },
  {
   "cell_type": "code",
   "execution_count": 5,
   "metadata": {},
   "outputs": [
    {
     "data": {
      "text/plain": [
       "{'ResponseMetadata': {'RequestId': '9ae8ead9-99ac-41fb-a439-c55b84ddd5c5',\n",
       "  'HTTPStatusCode': 200,\n",
       "  'HTTPHeaders': {'x-amzn-requestid': '9ae8ead9-99ac-41fb-a439-c55b84ddd5c5',\n",
       "   'content-type': 'text/xml',\n",
       "   'content-length': '214',\n",
       "   'date': 'Fri, 17 May 2024 17:00:16 GMT'},\n",
       "  'RetryAttempts': 0}}"
      ]
     },
     "execution_count": 5,
     "metadata": {},
     "output_type": "execute_result"
    }
   ],
   "source": [
    "import boto3\n",
    "\n",
    "# Create CloudWatch client\n",
    "cloudwatch = boto3.client('cloudwatch')\n",
    "\n",
    "# Create alarm\n",
    "cloudwatch.put_metric_alarm(\n",
    "    AlarmName='Web_Server_CPU_Utilization',\n",
    "    ComparisonOperator='GreaterThanThreshold',\n",
    "    EvaluationPeriods=1,\n",
    "    MetricName='CPUUtilization',\n",
    "    Namespace='AWS/EC2',\n",
    "    Period=60,\n",
    "    Statistic='Average',\n",
    "    Threshold=70.0,\n",
    "    ActionsEnabled=False,\n",
    "    AlarmDescription='Alarm when server CPU exceeds 70%',\n",
    "    Dimensions=[\n",
    "        {\n",
    "          'Name': 'InstanceId',\n",
    "          'Value': 'INSTANCE_ID'\n",
    "        },\n",
    "    ],\n",
    "    Unit='Seconds'\n",
    ")"
   ]
  },
  {
   "cell_type": "code",
   "execution_count": 6,
   "metadata": {},
   "outputs": [
    {
     "data": {
      "text/plain": [
       "{'ResponseMetadata': {'RequestId': '38631527-56b7-4d1c-b93a-06da6e57df4b',\n",
       "  'HTTPStatusCode': 200,\n",
       "  'HTTPHeaders': {'x-amzn-requestid': '38631527-56b7-4d1c-b93a-06da6e57df4b',\n",
       "   'content-type': 'text/xml',\n",
       "   'content-length': '210',\n",
       "   'date': 'Fri, 17 May 2024 17:03:13 GMT'},\n",
       "  'RetryAttempts': 0}}"
      ]
     },
     "execution_count": 6,
     "metadata": {},
     "output_type": "execute_result"
    }
   ],
   "source": [
    "import boto3\n",
    "\n",
    "# Create CloudWatch client\n",
    "cloudwatch = boto3.client('cloudwatch')\n",
    "\n",
    "# Delete alarm\n",
    "cloudwatch.delete_alarms(\n",
    "  AlarmNames=['Web_Server_CPU_Utilization'],\n",
    ")"
   ]
  },
  {
   "cell_type": "code",
   "execution_count": 7,
   "metadata": {},
   "outputs": [],
   "source": [
    "import boto3"
   ]
  },
  {
   "cell_type": "code",
   "execution_count": 8,
   "metadata": {},
   "outputs": [],
   "source": [
    "ec2_client = boto3.client('ec2')\n"
   ]
  },
  {
   "cell_type": "code",
   "execution_count": 9,
   "metadata": {},
   "outputs": [],
   "source": [
    "response = ec2_client.describe_snapshots(OwnerIds=['self'])\n",
    "snapshots = response['Snapshots']\n"
   ]
  },
  {
   "cell_type": "code",
   "execution_count": 10,
   "metadata": {},
   "outputs": [],
   "source": [
    "unattached_snapshots = []\n",
    "for snapshot in snapshots:\n",
    "    if 'fromSnapshotId' not in snapshot['Description']:\n",
    "        unattached_snapshots.append(snapshot)\n"
   ]
  },
  {
   "cell_type": "code",
   "execution_count": 11,
   "metadata": {},
   "outputs": [],
   "source": [
    "unattached_snapshots = []\n",
    "for snapshot in snapshots:\n",
    "    if 'fromSnapshotId' not in snapshot['Description']:\n",
    "        unattached_snapshots.append(snapshot)\n"
   ]
  },
  {
   "cell_type": "code",
   "execution_count": 15,
   "metadata": {},
   "outputs": [],
   "source": [
    "for snapshot in unattached_snapshots:\n",
    "        print(f\"Snapshot ID: {snapshot['SnapshotId']}, Volume ID: {snapshot['VolumeId']}\")\n",
    "        response = input(\"Do you want to delete this snapshot? (yes/no): \").lower()\n",
    "        if response == 'yes':\n",
    "            try:\n",
    "                ec2_client.delete_snapshot(SnapshotId=snapshot['SnapshotId'])\n",
    "                print(f\"Snapshot {snapshot['SnapshotId']} deleted.\")\n",
    "            except Exception as e:\n",
    "                print(f\"An error occurred while deleting snapshot {snapshot['SnapshotId']}: {str(e)}\")\n",
    "        else:\n",
    "            print(f\"Snapshot {snapshot['SnapshotId']} skipped.\")"
   ]
  },
  {
   "cell_type": "code",
   "execution_count": 14,
   "metadata": {},
   "outputs": [],
   "source": [
    "import logging\n",
    "\n",
    "logging.basicConfig(filename='snapshot_cleanup.log', level=logging.INFO)\n"
   ]
  },
  {
   "cell_type": "code",
   "execution_count": 24,
   "metadata": {},
   "outputs": [
    {
     "data": {
      "text/plain": [
       "{'ResponseMetadata': {'RequestId': '08dd4d05-ad89-4dbb-b016-b3dc2f1b45c2',\n",
       "  'HTTPStatusCode': 200,\n",
       "  'HTTPHeaders': {'x-amzn-requestid': '08dd4d05-ad89-4dbb-b016-b3dc2f1b45c2',\n",
       "   'content-type': 'text/xml',\n",
       "   'content-length': '214',\n",
       "   'date': 'Fri, 17 May 2024 18:14:29 GMT'},\n",
       "  'RetryAttempts': 0}}"
      ]
     },
     "execution_count": 24,
     "metadata": {},
     "output_type": "execute_result"
    }
   ],
   "source": [
    "import boto3\n",
    "\n",
    "# Create CloudWatch client\n",
    "cloudwatch = boto3.client('cloudwatch')\n",
    "\n",
    "# Create alarm with actions enabled\n",
    "cloudwatch.put_metric_alarm(\n",
    "    AlarmName='Web_Server_CPU_Utilization',\n",
    "    ComparisonOperator='GreaterThanThreshold',\n",
    "    EvaluationPeriods=1,\n",
    "    MetricName='CPUUtilization',\n",
    "    Namespace='AWS/EC2',\n",
    "    Period=60,\n",
    "    Statistic='Average',\n",
    "    Threshold=70.0,\n",
    "    ActionsEnabled=True,\n",
    "    AlarmActions=[\n",
    "      'arn:aws:swf:eu-west-1:{CUSTOMER_ACCOUNT}:action/actions/AWS_EC2.InstanceId.Reboot/1.0'\n",
    "    ],\n",
    "    AlarmDescription='Alarm when server CPU exceeds 70%',\n",
    "    Dimensions=[\n",
    "        {\n",
    "          'Name': 'InstanceId',\n",
    "          'Value': 'INSTANCE_ID'\n",
    "        },\n",
    "    ],\n",
    "    Unit='Seconds'\n",
    ")"
   ]
  },
  {
   "cell_type": "code",
   "execution_count": 25,
   "metadata": {},
   "outputs": [
    {
     "data": {
      "text/plain": [
       "{'ResponseMetadata': {'RequestId': '0b42b596-b8ed-4b28-ad22-4f4ed5fc902d',\n",
       "  'HTTPStatusCode': 200,\n",
       "  'HTTPHeaders': {'x-amzn-requestid': '0b42b596-b8ed-4b28-ad22-4f4ed5fc902d',\n",
       "   'content-type': 'text/xml',\n",
       "   'content-length': '224',\n",
       "   'date': 'Fri, 17 May 2024 18:14:39 GMT'},\n",
       "  'RetryAttempts': 0}}"
      ]
     },
     "execution_count": 25,
     "metadata": {},
     "output_type": "execute_result"
    }
   ],
   "source": [
    "cloudwatch.disable_alarm_actions(\n",
    "  AlarmNames=['Web_Server_CPU_Utilization'],\n",
    ")"
   ]
  },
  {
   "cell_type": "code",
   "execution_count": 26,
   "metadata": {},
   "outputs": [
    {
     "data": {
      "text/plain": [
       "{'ResponseMetadata': {'RequestId': '1d80ec10-2d64-40e5-b692-9929ec820506',\n",
       "  'HTTPStatusCode': 200,\n",
       "  'HTTPHeaders': {'x-amzn-requestid': '1d80ec10-2d64-40e5-b692-9929ec820506',\n",
       "   'content-type': 'text/xml',\n",
       "   'content-length': '212',\n",
       "   'date': 'Fri, 17 May 2024 18:27:52 GMT'},\n",
       "  'RetryAttempts': 0}}"
      ]
     },
     "execution_count": 26,
     "metadata": {},
     "output_type": "execute_result"
    }
   ],
   "source": [
    "import boto3\n",
    "\n",
    "# Create CloudWatch client\n",
    "cloudwatch = boto3.client('cloudwatch')\n",
    "\n",
    "# Put custom metrics\n",
    "cloudwatch.put_metric_data(\n",
    "    MetricData=[\n",
    "        {\n",
    "            'MetricName': 'PAGES_VISITED',\n",
    "            'Dimensions': [\n",
    "                {\n",
    "                    'Name': 'UNIQUE_PAGES',\n",
    "                    'Value': 'URLS'\n",
    "                },\n",
    "            ],\n",
    "            'Unit': 'None',\n",
    "            'Value': 1.0\n",
    "        },\n",
    "    ],\n",
    "    Namespace='SITE/TRAFFIC'\n",
    ")"
   ]
  },
  {
   "cell_type": "code",
   "execution_count": 27,
   "metadata": {},
   "outputs": [
    {
     "name": "stdout",
     "output_type": "stream",
     "text": [
      "[]\n"
     ]
    }
   ],
   "source": [
    "import boto3\n",
    "\n",
    "# Create CloudWatch client\n",
    "cloudwatch = boto3.client('cloudwatch')\n",
    "\n",
    "# List metrics through the pagination interface\n",
    "paginator = cloudwatch.get_paginator('list_metrics')\n",
    "for response in paginator.paginate(Dimensions=[{'Name': 'LogGroupName'}],\n",
    "                                   MetricName='IncomingLogEvents',\n",
    "                                   Namespace='AWS/Logs'):\n",
    "    print(response['Metrics'])"
   ]
  },
  {
   "cell_type": "code",
   "execution_count": 28,
   "metadata": {},
   "outputs": [
    {
     "data": {
      "text/plain": [
       "\"\\ncloudwatch.put_metric_data(\\n    MetricData=[\\n        {\\n            'MetricName': 'PAGES_VISITED',\\n            'Dimensions': [\\n                {\\n                    'Name': 'UNIQUE_PAGES',\\n                    'Value': 'URLS'\\n                },\\n            ],\\n            'Unit': 'None',\\n            'Value': 1.0\\n        },\\n    ],\\n    Namespace='SITE/TRAFFIC'\\n)\\n\""
      ]
     },
     "execution_count": 28,
     "metadata": {},
     "output_type": "execute_result"
    }
   ],
   "source": [
    "import boto3\n",
    "\n",
    "# Create CloudWatch client\n",
    "cloudwatch = boto3.client('cloudwatch')\n",
    "\n",
    "# Comment out or remove the code responsible for putting custom metrics\n",
    "\"\"\"\n",
    "cloudwatch.put_metric_data(\n",
    "    MetricData=[\n",
    "        {\n",
    "            'MetricName': 'PAGES_VISITED',\n",
    "            'Dimensions': [\n",
    "                {\n",
    "                    'Name': 'UNIQUE_PAGES',\n",
    "                    'Value': 'URLS'\n",
    "                },\n",
    "            ],\n",
    "            'Unit': 'None',\n",
    "            'Value': 1.0\n",
    "        },\n",
    "    ],\n",
    "    Namespace='SITE/TRAFFIC'\n",
    ")\n",
    "\"\"\"\n"
   ]
  }
 ],
 "metadata": {
  "kernelspec": {
   "display_name": "Python 3",
   "language": "python",
   "name": "python3"
  },
  "language_info": {
   "codemirror_mode": {
    "name": "ipython",
    "version": 3
   },
   "file_extension": ".py",
   "mimetype": "text/x-python",
   "name": "python",
   "nbconvert_exporter": "python",
   "pygments_lexer": "ipython3",
   "version": "3.9.16"
  }
 },
 "nbformat": 4,
 "nbformat_minor": 2
}
