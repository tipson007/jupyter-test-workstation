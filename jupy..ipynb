{
 "cells": [
  {
   "cell_type": "code",
   "execution_count": 5,
   "metadata": {},
   "outputs": [],
   "source": [
    "import boto3\n",
    "\n",
    "# Let's use Amazon S3\n",
    "s3 = boto3.resource('s3')"
   ]
  },
  {
   "cell_type": "code",
   "execution_count": 4,
   "metadata": {},
   "outputs": [
    {
     "name": "stdout",
     "output_type": "stream",
     "text": [
      "alexapollysound\n",
      "aws-cloudtrail-logs-994833971943-5f1cbf78\n",
      "aws-codestar-us-west-2-994833971943\n",
      "aws-codestar-us-west-2-994833971943-my-musician-app-pipe\n",
      "cf-templates-rb5g5o9qeqo0-eu-central-1\n",
      "cf-templates-rb5g5o9qeqo0-us-east-1\n",
      "codepipeline-us-east-2-923806125422\n",
      "codepipeline-us-west-2-809941331542\n",
      "elasticbeanstalk-us-east-1-994833971943\n",
      "elasticbeanstalk-us-east-2-994833971943\n",
      "elasticbeanstalk-us-west-2-994833971943\n",
      "ex3.1\n",
      "mydbprod\n",
      "mylambdabucket908765\n",
      "sagemakerbucket001\n",
      "serverlesscloud\n",
      "terraform-state-primary-bucket\n"
     ]
    }
   ],
   "source": [
    "s3 = boto3.resource('s3')\n",
    "for bucket in s3.buckets.all():\n",
    "    print(bucket.name)"
   ]
  },
  {
   "cell_type": "code",
   "execution_count": 5,
   "metadata": {},
   "outputs": [
    {
     "data": {
      "text/plain": [
       "{'ResponseMetadata': {'RequestId': '9ae8ead9-99ac-41fb-a439-c55b84ddd5c5',\n",
       "  'HTTPStatusCode': 200,\n",
       "  'HTTPHeaders': {'x-amzn-requestid': '9ae8ead9-99ac-41fb-a439-c55b84ddd5c5',\n",
       "   'content-type': 'text/xml',\n",
       "   'content-length': '214',\n",
       "   'date': 'Fri, 17 May 2024 17:00:16 GMT'},\n",
       "  'RetryAttempts': 0}}"
      ]
     },
     "execution_count": 5,
     "metadata": {},
     "output_type": "execute_result"
    }
   ],
   "source": [
    "import boto3\n",
    "\n",
    "# Create CloudWatch client\n",
    "cloudwatch = boto3.client('cloudwatch')\n",
    "\n",
    "# Create alarm\n",
    "cloudwatch.put_metric_alarm(\n",
    "    AlarmName='Web_Server_CPU_Utilization',\n",
    "    ComparisonOperator='GreaterThanThreshold',\n",
    "    EvaluationPeriods=1,\n",
    "    MetricName='CPUUtilization',\n",
    "    Namespace='AWS/EC2',\n",
    "    Period=60,\n",
    "    Statistic='Average',\n",
    "    Threshold=70.0,\n",
    "    ActionsEnabled=False,\n",
    "    AlarmDescription='Alarm when server CPU exceeds 70%',\n",
    "    Dimensions=[\n",
    "        {\n",
    "          'Name': 'InstanceId',\n",
    "          'Value': 'INSTANCE_ID'\n",
    "        },\n",
    "    ],\n",
    "    Unit='Seconds'\n",
    ")"
   ]
  },
  {
   "cell_type": "code",
   "execution_count": 6,
   "metadata": {},
   "outputs": [
    {
     "data": {
      "text/plain": [
       "{'ResponseMetadata': {'RequestId': '38631527-56b7-4d1c-b93a-06da6e57df4b',\n",
       "  'HTTPStatusCode': 200,\n",
       "  'HTTPHeaders': {'x-amzn-requestid': '38631527-56b7-4d1c-b93a-06da6e57df4b',\n",
       "   'content-type': 'text/xml',\n",
       "   'content-length': '210',\n",
       "   'date': 'Fri, 17 May 2024 17:03:13 GMT'},\n",
       "  'RetryAttempts': 0}}"
      ]
     },
     "execution_count": 6,
     "metadata": {},
     "output_type": "execute_result"
    }
   ],
   "source": [
    "import boto3\n",
    "\n",
    "# Create CloudWatch client\n",
    "cloudwatch = boto3.client('cloudwatch')\n",
    "\n",
    "# Delete alarm\n",
    "cloudwatch.delete_alarms(\n",
    "  AlarmNames=['Web_Server_CPU_Utilization'],\n",
    ")"
   ]
  },
  {
   "cell_type": "code",
   "execution_count": 52,
   "metadata": {},
   "outputs": [],
   "source": [
    "import boto3"
   ]
  },
  {
   "cell_type": "code",
   "execution_count": 53,
   "metadata": {},
   "outputs": [],
   "source": [
    "ec2_client = boto3.client('ec2')\n"
   ]
  },
  {
   "cell_type": "code",
   "execution_count": 54,
   "metadata": {},
   "outputs": [],
   "source": [
    "response = ec2_client.describe_snapshots(OwnerIds=['self'])\n",
    "snapshots = response['Snapshots']\n"
   ]
  },
  {
   "cell_type": "code",
   "execution_count": 55,
   "metadata": {},
   "outputs": [],
   "source": [
    "unattached_snapshots = []\n",
    "for snapshot in snapshots:\n",
    "    if 'fromSnapshotId' not in snapshot['Description']:\n",
    "        unattached_snapshots.append(snapshot)\n"
   ]
  },
  {
   "cell_type": "code",
   "execution_count": 56,
   "metadata": {},
   "outputs": [],
   "source": [
    "unattached_snapshots = []\n",
    "for snapshot in snapshots:\n",
    "    if 'fromSnapshotId' not in snapshot['Description']:\n",
    "        unattached_snapshots.append(snapshot)\n"
   ]
  },
  {
   "cell_type": "code",
   "execution_count": 57,
   "metadata": {},
   "outputs": [],
   "source": [
    "for snapshot in unattached_snapshots:\n",
    "        print(f\"Snapshot ID: {snapshot['SnapshotId']}, Volume ID: {snapshot['VolumeId']}\")\n",
    "        response = input(\"Do you want to delete this snapshot? (yes/no): \").lower()\n",
    "        if response == 'yes':\n",
    "            try:\n",
    "                ec2_client.delete_snapshot(SnapshotId=snapshot['SnapshotId'])\n",
    "                print(f\"Snapshot {snapshot['SnapshotId']} deleted.\")\n",
    "            except Exception as e:\n",
    "                print(f\"An error occurred while deleting snapshot {snapshot['SnapshotId']}: {str(e)}\")\n",
    "        else:\n",
    "            print(f\"Snapshot {snapshot['SnapshotId']} skipped.\")"
   ]
  },
  {
   "cell_type": "code",
   "execution_count": 58,
   "metadata": {},
   "outputs": [],
   "source": [
    "import logging\n",
    "\n",
    "logging.basicConfig(filename='snapshot_cleanup.log', level=logging.INFO)\n"
   ]
  },
  {
   "cell_type": "code",
   "execution_count": 24,
   "metadata": {},
   "outputs": [
    {
     "data": {
      "text/plain": [
       "{'ResponseMetadata': {'RequestId': '08dd4d05-ad89-4dbb-b016-b3dc2f1b45c2',\n",
       "  'HTTPStatusCode': 200,\n",
       "  'HTTPHeaders': {'x-amzn-requestid': '08dd4d05-ad89-4dbb-b016-b3dc2f1b45c2',\n",
       "   'content-type': 'text/xml',\n",
       "   'content-length': '214',\n",
       "   'date': 'Fri, 17 May 2024 18:14:29 GMT'},\n",
       "  'RetryAttempts': 0}}"
      ]
     },
     "execution_count": 24,
     "metadata": {},
     "output_type": "execute_result"
    }
   ],
   "source": [
    "import boto3\n",
    "\n",
    "# Create CloudWatch client\n",
    "cloudwatch = boto3.client('cloudwatch')\n",
    "\n",
    "# Create alarm with actions enabled\n",
    "cloudwatch.put_metric_alarm(\n",
    "    AlarmName='Web_Server_CPU_Utilization',\n",
    "    ComparisonOperator='GreaterThanThreshold',\n",
    "    EvaluationPeriods=1,\n",
    "    MetricName='CPUUtilization',\n",
    "    Namespace='AWS/EC2',\n",
    "    Period=60,\n",
    "    Statistic='Average',\n",
    "    Threshold=70.0,\n",
    "    ActionsEnabled=True,\n",
    "    AlarmActions=[\n",
    "      'arn:aws:swf:eu-west-1:{CUSTOMER_ACCOUNT}:action/actions/AWS_EC2.InstanceId.Reboot/1.0'\n",
    "    ],\n",
    "    AlarmDescription='Alarm when server CPU exceeds 70%',\n",
    "    Dimensions=[\n",
    "        {\n",
    "          'Name': 'InstanceId',\n",
    "          'Value': 'INSTANCE_ID'\n",
    "        },\n",
    "    ],\n",
    "    Unit='Seconds'\n",
    ")"
   ]
  },
  {
   "cell_type": "code",
   "execution_count": 25,
   "metadata": {},
   "outputs": [
    {
     "data": {
      "text/plain": [
       "{'ResponseMetadata': {'RequestId': '0b42b596-b8ed-4b28-ad22-4f4ed5fc902d',\n",
       "  'HTTPStatusCode': 200,\n",
       "  'HTTPHeaders': {'x-amzn-requestid': '0b42b596-b8ed-4b28-ad22-4f4ed5fc902d',\n",
       "   'content-type': 'text/xml',\n",
       "   'content-length': '224',\n",
       "   'date': 'Fri, 17 May 2024 18:14:39 GMT'},\n",
       "  'RetryAttempts': 0}}"
      ]
     },
     "execution_count": 25,
     "metadata": {},
     "output_type": "execute_result"
    }
   ],
   "source": [
    "cloudwatch.disable_alarm_actions(\n",
    "  AlarmNames=['Web_Server_CPU_Utilization'],\n",
    ")"
   ]
  },
  {
   "cell_type": "code",
   "execution_count": 26,
   "metadata": {},
   "outputs": [
    {
     "data": {
      "text/plain": [
       "{'ResponseMetadata': {'RequestId': '1d80ec10-2d64-40e5-b692-9929ec820506',\n",
       "  'HTTPStatusCode': 200,\n",
       "  'HTTPHeaders': {'x-amzn-requestid': '1d80ec10-2d64-40e5-b692-9929ec820506',\n",
       "   'content-type': 'text/xml',\n",
       "   'content-length': '212',\n",
       "   'date': 'Fri, 17 May 2024 18:27:52 GMT'},\n",
       "  'RetryAttempts': 0}}"
      ]
     },
     "execution_count": 26,
     "metadata": {},
     "output_type": "execute_result"
    }
   ],
   "source": [
    "import boto3\n",
    "\n",
    "# Create CloudWatch client\n",
    "cloudwatch = boto3.client('cloudwatch')\n",
    "\n",
    "# Put custom metrics\n",
    "cloudwatch.put_metric_data(\n",
    "    MetricData=[\n",
    "        {\n",
    "            'MetricName': 'PAGES_VISITED',\n",
    "            'Dimensions': [\n",
    "                {\n",
    "                    'Name': 'UNIQUE_PAGES',\n",
    "                    'Value': 'URLS'\n",
    "                },\n",
    "            ],\n",
    "            'Unit': 'None',\n",
    "            'Value': 1.0\n",
    "        },\n",
    "    ],\n",
    "    Namespace='SITE/TRAFFIC'\n",
    ")"
   ]
  },
  {
   "cell_type": "code",
   "execution_count": 27,
   "metadata": {},
   "outputs": [
    {
     "name": "stdout",
     "output_type": "stream",
     "text": [
      "[]\n"
     ]
    }
   ],
   "source": [
    "import boto3\n",
    "\n",
    "# Create CloudWatch client\n",
    "cloudwatch = boto3.client('cloudwatch')\n",
    "\n",
    "# List metrics through the pagination interface\n",
    "paginator = cloudwatch.get_paginator('list_metrics')\n",
    "for response in paginator.paginate(Dimensions=[{'Name': 'LogGroupName'}],\n",
    "                                   MetricName='IncomingLogEvents',\n",
    "                                   Namespace='AWS/Logs'):\n",
    "    print(response['Metrics'])"
   ]
  },
  {
   "cell_type": "code",
   "execution_count": 28,
   "metadata": {},
   "outputs": [
    {
     "data": {
      "text/plain": [
       "\"\\ncloudwatch.put_metric_data(\\n    MetricData=[\\n        {\\n            'MetricName': 'PAGES_VISITED',\\n            'Dimensions': [\\n                {\\n                    'Name': 'UNIQUE_PAGES',\\n                    'Value': 'URLS'\\n                },\\n            ],\\n            'Unit': 'None',\\n            'Value': 1.0\\n        },\\n    ],\\n    Namespace='SITE/TRAFFIC'\\n)\\n\""
      ]
     },
     "execution_count": 28,
     "metadata": {},
     "output_type": "execute_result"
    }
   ],
   "source": [
    "import boto3\n",
    "\n",
    "# Create CloudWatch client\n",
    "cloudwatch = boto3.client('cloudwatch')\n",
    "\n",
    "# Comment out or remove the code responsible for putting custom metrics\n",
    "\"\"\"\n",
    "cloudwatch.put_metric_data(\n",
    "    MetricData=[\n",
    "        {\n",
    "            'MetricName': 'PAGES_VISITED',\n",
    "            'Dimensions': [\n",
    "                {\n",
    "                    'Name': 'UNIQUE_PAGES',\n",
    "                    'Value': 'URLS'\n",
    "                },\n",
    "            ],\n",
    "            'Unit': 'None',\n",
    "            'Value': 1.0\n",
    "        },\n",
    "    ],\n",
    "    Namespace='SITE/TRAFFIC'\n",
    ")\n",
    "\"\"\"\n"
   ]
  },
  {
   "cell_type": "code",
   "execution_count": 3,
   "metadata": {},
   "outputs": [],
   "source": [
    "import boto3\n",
    "\n",
    "ec2_client = boto3.client('ec2')\n",
    "\n",
    "volumes = ec2_client.describe_volumes()\n"
   ]
  },
  {
   "cell_type": "code",
   "execution_count": 4,
   "metadata": {},
   "outputs": [],
   "source": [
    "volume_size_gb = 8\n",
    "num_volumes = 2\n",
    "availability_zone = 'eu-west-1'"
   ]
  },
  {
   "cell_type": "code",
   "execution_count": 22,
   "metadata": {},
   "outputs": [
    {
     "name": "stdout",
     "output_type": "stream",
     "text": [
      "{'AvailabilityZone': 'eu-west-1a', 'CreateTime': datetime.datetime(2024, 5, 18, 18, 27, 38, tzinfo=tzutc()), 'Encrypted': False, 'Size': 8, 'SnapshotId': '', 'State': 'creating', 'VolumeId': 'vol-048b7a018f25accee', 'Iops': 100, 'Tags': [], 'VolumeType': 'gp2', 'MultiAttachEnabled': False, 'ResponseMetadata': {'RequestId': 'ebf6bb89-e787-47a7-938d-2589befda4eb', 'HTTPStatusCode': 200, 'HTTPHeaders': {'x-amzn-requestid': 'ebf6bb89-e787-47a7-938d-2589befda4eb', 'cache-control': 'no-cache, no-store', 'strict-transport-security': 'max-age=31536000; includeSubDomains', 'content-type': 'text/xml;charset=UTF-8', 'content-length': '583', 'date': 'Sat, 18 May 2024 18:27:37 GMT', 'server': 'AmazonEC2'}, 'RetryAttempts': 0}}\n"
     ]
    }
   ],
   "source": [
    "import boto3\n",
    "from botocore.exceptions import ClientError\n",
    "\n",
    "ec2_client = boto3.client('ec2')\n",
    "\n",
    "try:\n",
    "    response = ec2_client.create_volume(\n",
    "        AvailabilityZone='eu-west-1a',\n",
    "        Size=8,\n",
    "        VolumeType='gp2',\n",
    "    )\n",
    "    print(response)\n",
    "except ClientError as e:\n",
    "    print(\"An error occurred:\", e)\n"
   ]
  },
  {
   "cell_type": "code",
   "execution_count": 31,
   "metadata": {},
   "outputs": [],
   "source": [
    "volume_id = 'vol-048b7a018f25accee'\n",
    "response = ec2_client.delete_volume(\n",
    "    VolumeId=volume_id\n",
    ")"
   ]
  },
  {
   "cell_type": "code",
   "execution_count": null,
   "metadata": {},
   "outputs": [],
   "source": [
    "response = ec2_client.create_volume(\n",
    "        AvailabilityZone='eu-west-1a',\n",
    "        Size=8,\n",
    "        VolumeType='gp2',\n",
    "    )"
   ]
  },
  {
   "cell_type": "code",
   "execution_count": 23,
   "metadata": {},
   "outputs": [
    {
     "name": "stdout",
     "output_type": "stream",
     "text": [
      "{'Description': 'This is my root volume snapshot.', 'Encrypted': False, 'OwnerId': '994833971943', 'Progress': '', 'SnapshotId': 'snap-00bfb3021cc950447', 'StartTime': datetime.datetime(2024, 5, 18, 18, 33, 56, 341000, tzinfo=tzutc()), 'State': 'pending', 'VolumeId': 'vol-048b7a018f25accee', 'VolumeSize': 8, 'Tags': [], 'ResponseMetadata': {'RequestId': '3953f973-1c4b-4b67-8f88-704119e74020', 'HTTPStatusCode': 200, 'HTTPHeaders': {'x-amzn-requestid': '3953f973-1c4b-4b67-8f88-704119e74020', 'cache-control': 'no-cache, no-store', 'strict-transport-security': 'max-age=31536000; includeSubDomains', 'content-type': 'text/xml;charset=UTF-8', 'content-length': '587', 'date': 'Sat, 18 May 2024 18:33:56 GMT', 'server': 'AmazonEC2'}, 'RetryAttempts': 0}}\n"
     ]
    }
   ],
   "source": [
    "response = ec2_client.create_snapshot(\n",
    "    Description='This is my root volume snapshot.',\n",
    "    VolumeId='vol-048b7a018f25accee',\n",
    ")\n",
    "\n",
    "print(response)"
   ]
  },
  {
   "cell_type": "code",
   "execution_count": 24,
   "metadata": {},
   "outputs": [
    {
     "name": "stdout",
     "output_type": "stream",
     "text": [
      "{'Snapshots': [{'Description': 'This is my root volume snapshot.', 'Encrypted': False, 'OwnerId': '994833971943', 'Progress': '100%', 'SnapshotId': 'snap-00bfb3021cc950447', 'StartTime': datetime.datetime(2024, 5, 18, 18, 33, 56, 341000, tzinfo=tzutc()), 'State': 'completed', 'VolumeId': 'vol-048b7a018f25accee', 'VolumeSize': 8, 'StorageTier': 'standard'}], 'ResponseMetadata': {'RequestId': 'a2b0fd81-5641-4aa3-b535-ddcf0c65837d', 'HTTPStatusCode': 200, 'HTTPHeaders': {'x-amzn-requestid': 'a2b0fd81-5641-4aa3-b535-ddcf0c65837d', 'cache-control': 'no-cache, no-store', 'strict-transport-security': 'max-age=31536000; includeSubDomains', 'content-type': 'text/xml;charset=UTF-8', 'content-length': '772', 'date': 'Sat, 18 May 2024 18:39:04 GMT', 'server': 'AmazonEC2'}, 'RetryAttempts': 0}}\n"
     ]
    }
   ],
   "source": [
    "response = ec2_client.describe_snapshots(\n",
    "    SnapshotIds=[\n",
    "        'snap-00bfb3021cc950447',\n",
    "    ],\n",
    ")\n",
    "\n",
    "print(response)"
   ]
  },
  {
   "cell_type": "code",
   "execution_count": 78,
   "metadata": {},
   "outputs": [],
   "source": [
    "snapshots_response = ec2_client.describe_snapshots(OwnerIds=['self'])\n"
   ]
  },
  {
   "cell_type": "code",
   "execution_count": 80,
   "metadata": {},
   "outputs": [
    {
     "name": "stdout",
     "output_type": "stream",
     "text": [
      "Snapshot ID: snap-03950c23e5ec0a8f4, Volume ID: vol-0c156a9a540c528d3\n"
     ]
    }
   ],
   "source": [
    "for snapshot in snapshots_response['Snapshots']:\n",
    "    volume_id = snapshot.get('VolumeId')\n",
    "    if volume_id:\n",
    "        print(f\"Snapshot ID: {snapshot['SnapshotId']}, Volume ID: {volume_id}\")\n"
   ]
  },
  {
   "cell_type": "code",
   "execution_count": 76,
   "metadata": {},
   "outputs": [
    {
     "name": "stdout",
     "output_type": "stream",
     "text": [
      "Deleting Snapshot ID: snap-07aa14f88a5b24e41, Volume ID: vol-0c156a9a540c528d3\n",
      "Deleted snapshot ID: snap-07aa14f88a5b24e41: {'ResponseMetadata': {'RequestId': 'a41028b1-471d-48b9-bc9d-50515c136613', 'HTTPStatusCode': 200, 'HTTPHeaders': {'x-amzn-requestid': 'a41028b1-471d-48b9-bc9d-50515c136613', 'cache-control': 'no-cache, no-store', 'strict-transport-security': 'max-age=31536000; includeSubDomains', 'content-type': 'text/xml;charset=UTF-8', 'content-length': '229', 'date': 'Fri, 24 May 2024 21:37:02 GMT', 'server': 'AmazonEC2'}, 'RetryAttempts': 0}}\n"
     ]
    }
   ],
   "source": [
    "for snapshot in snapshots_response['Snapshots']:\n",
    "    volume_id = snapshot.get('VolumeId')\n",
    "    if volume_id:\n",
    "        snapshot_id = snapshot['SnapshotId']\n",
    "        print(f\"Deleting Snapshot ID: {snapshot['SnapshotId']}, Volume ID: {volume_id}\")\n",
    "        response = ec2_client.delete_snapshot(SnapshotId=snapshot_id)\n",
    "        print(f\"Deleted snapshot ID: {snapshot_id}: {response}\")"
   ]
  },
  {
   "cell_type": "code",
   "execution_count": 81,
   "metadata": {},
   "outputs": [
    {
     "name": "stdout",
     "output_type": "stream",
     "text": [
      "Snapshot ID: snap-03950c23e5ec0a8f4, Volume ID: vol-0c156a9a540c528d3\n",
      "Deleting Snapshot ID: snap-03950c23e5ec0a8f4, Volume ID: vol-0c156a9a540c528d3\n",
      "Deleted Snapshot ID: snap-03950c23e5ec0a8f4: {'ResponseMetadata': {'RequestId': '4feca317-31aa-4a84-b3e1-3ee3d6f0f40a', 'HTTPStatusCode': 200, 'HTTPHeaders': {'x-amzn-requestid': '4feca317-31aa-4a84-b3e1-3ee3d6f0f40a', 'cache-control': 'no-cache, no-store', 'strict-transport-security': 'max-age=31536000; includeSubDomains', 'content-type': 'text/xml;charset=UTF-8', 'content-length': '229', 'date': 'Fri, 24 May 2024 21:40:26 GMT', 'server': 'AmazonEC2'}, 'RetryAttempts': 0}}\n"
     ]
    }
   ],
   "source": [
    "import boto3\n",
    "\n",
    "def describe_snapshots(ec2_client):\n",
    "    try:\n",
    "        response = ec2_client.describe_snapshots(OwnerIds=['self'])\n",
    "        return response['Snapshots']\n",
    "    except Exception as e:\n",
    "        print(f\"Error fetching snapshots: {e}\")\n",
    "        return []\n",
    "\n",
    "def print_snapshots(snapshots):\n",
    "    for snapshot in snapshots:\n",
    "        volume_id = snapshot.get('VolumeId')\n",
    "        if volume_id:\n",
    "            print(f\"Snapshot ID: {snapshot['SnapshotId']}, Volume ID: {volume_id}\")\n",
    "\n",
    "def delete_snapshots(ec2_client, snapshots):\n",
    "    for snapshot in snapshots:\n",
    "        volume_id = snapshot.get('VolumeId')\n",
    "        if volume_id:\n",
    "            snapshot_id = snapshot['SnapshotId']\n",
    "            try:\n",
    "                print(f\"Deleting Snapshot ID: {snapshot_id}, Volume ID: {volume_id}\")\n",
    "                response = ec2_client.delete_snapshot(SnapshotId=snapshot_id)\n",
    "                print(f\"Deleted Snapshot ID: {snapshot_id}: {response}\")\n",
    "            except Exception as e:\n",
    "                print(f\"Error deleting Snapshot ID: {snapshot_id}: {e}\")\n",
    "\n",
    "def main():\n",
    "    ec2_client = boto3.client('ec2')\n",
    "    snapshots = describe_snapshots(ec2_client)\n",
    "    print_snapshots(snapshots)\n",
    "    delete_snapshots(ec2_client, snapshots)\n",
    "\n",
    "if __name__ == \"__main__\":\n",
    "    main()"
   ]
  },
  {
   "cell_type": "code",
   "execution_count": null,
   "metadata": {},
   "outputs": [],
   "source": [
    "import boto3\n",
    "\n",
    "ec2_client = boto3.client('ec2')\n",
    "\n",
    "response = ec2_client.describe_snapshots(OwnerIds=['self'])\n",
    "snapshots = response['Snapshots']\n",
    "unattached_snapshots = []\n",
    "for snapshot in snapshots:\n",
    "    if 'fromSnapshotId' not in snapshot['Description']:\n",
    "        unattached_snapshots.append(snapshot)\n",
    "        \n",
    "for snapshot in unattached_snapshots:\n",
    "    print(f\"Snapshot ID: {snapshot['SnapshotId']}, Volume ID: {snapshot['VolumeId']}\")\n",
    "    response = input(\"Do you want to delete this snapshot? (yes/no): \").lower()\n",
    "    if response == 'yes':\n",
    "        ec2_client.delete_snapshot(SnapshotId=snapshot['SnapshotId'])\n",
    "        print(f\"Snapshot {snapshot['SnapshotId']} deleted.\")\n",
    "    else:\n",
    "        print(f\"Snapshot {snapshot['SnapshotId']} skipped.\")\n"
   ]
  },
  {
   "cell_type": "code",
   "execution_count": 32,
   "metadata": {},
   "outputs": [],
   "source": [
    "import boto3\n",
    "\n",
    "ec2_client = boto3.client('ec2')\n",
    "snapshots_response = ec2_client.describe_snapshots(OwnerIds=['self'])\n",
    "\n",
    "for snapshot in snapshots_response['Snapshots']:\n",
    "    volume_id = snapshot.get('VolumeId')\n",
    "    if volume_id:\n",
    "        snapshot_id = snapshot['SnapshotId']\n",
    "        print(f\"Deleting snapshot ID: {snapshot_id}, Volume ID: {volume_id}\")\n",
    "        \n",
    "        response = ec2_client.delete_snapshot(SnapshotId=snapshot_id)\n",
    "        print(f\"Deleted snapshot ID: {snapshot_id}: {response}\")\n"
   ]
  },
  {
   "cell_type": "code",
   "execution_count": 44,
   "metadata": {},
   "outputs": [
    {
     "name": "stdout",
     "output_type": "stream",
     "text": [
      "{'ImageId': 'ami-036d9b89623edc826', 'ResponseMetadata': {'RequestId': 'dea44767-bf81-4e59-951a-2e46de6a9f09', 'HTTPStatusCode': 200, 'HTTPHeaders': {'x-amzn-requestid': 'dea44767-bf81-4e59-951a-2e46de6a9f09', 'cache-control': 'no-cache, no-store', 'strict-transport-security': 'max-age=31536000; includeSubDomains', 'content-type': 'text/xml;charset=UTF-8', 'content-length': '238', 'date': 'Fri, 24 May 2024 17:38:13 GMT', 'server': 'AmazonEC2'}, 'RetryAttempts': 0}}\n"
     ]
    }
   ],
   "source": [
    "import boto3\n",
    "\n",
    "destination_client = boto3.client('ec2', region_name='eu-west-1')\n",
    "\n",
    "response = destination_client.copy_image(\n",
    "    Description='',\n",
    "    Name='test',\n",
    "    SourceImageId='ami-018823602a44dea93',\n",
    "    SourceRegion='us-east-1',\n",
    ")\n",
    "\n",
    "print(response)"
   ]
  },
  {
   "cell_type": "code",
   "execution_count": 50,
   "metadata": {},
   "outputs": [
    {
     "ename": "ClientError",
     "evalue": "An error occurred (DryRunOperation) when calling the DeregisterImage operation: Request would have succeeded, but DryRun flag is set.",
     "output_type": "error",
     "traceback": [
      "\u001b[0;31m---------------------------------------------------------------------------\u001b[0m",
      "\u001b[0;31mClientError\u001b[0m                               Traceback (most recent call last)",
      "Cell \u001b[0;32mIn[50], line 3\u001b[0m\n\u001b[1;32m      1\u001b[0m client \u001b[38;5;241m=\u001b[39m boto3\u001b[38;5;241m.\u001b[39mclient(\u001b[38;5;124m'\u001b[39m\u001b[38;5;124mec2\u001b[39m\u001b[38;5;124m'\u001b[39m)\n\u001b[0;32m----> 3\u001b[0m response \u001b[38;5;241m=\u001b[39m \u001b[43mclient\u001b[49m\u001b[38;5;241;43m.\u001b[39;49m\u001b[43mderegister_image\u001b[49m\u001b[43m(\u001b[49m\n\u001b[1;32m      4\u001b[0m \u001b[43m    \u001b[49m\u001b[43mImageId\u001b[49m\u001b[38;5;241;43m=\u001b[39;49m\u001b[38;5;124;43m'\u001b[39;49m\u001b[38;5;124;43mstring\u001b[39;49m\u001b[38;5;124;43m'\u001b[39;49m\u001b[43m,\u001b[49m\n\u001b[1;32m      5\u001b[0m \u001b[43m    \u001b[49m\u001b[43mDryRun\u001b[49m\u001b[38;5;241;43m=\u001b[39;49m\u001b[38;5;28;43;01mTrue\u001b[39;49;00m\u001b[38;5;241;43m|\u001b[39;49m\u001b[38;5;28;43;01mFalse\u001b[39;49;00m\n\u001b[1;32m      6\u001b[0m \u001b[43m)\u001b[49m\n\u001b[1;32m      7\u001b[0m \u001b[38;5;28mprint\u001b[39m(response)\n",
      "File \u001b[0;32m~/.pyenv/versions/pypy3.9-7.3.11/lib/pypy3.9/site-packages/botocore/client.py:565\u001b[0m, in \u001b[0;36mClientCreator._create_api_method.<locals>._api_call\u001b[0;34m(self, *args, **kwargs)\u001b[0m\n\u001b[1;32m    561\u001b[0m     \u001b[38;5;28;01mraise\u001b[39;00m \u001b[38;5;167;01mTypeError\u001b[39;00m(\n\u001b[1;32m    562\u001b[0m         \u001b[38;5;124mf\u001b[39m\u001b[38;5;124m\"\u001b[39m\u001b[38;5;132;01m{\u001b[39;00mpy_operation_name\u001b[38;5;132;01m}\u001b[39;00m\u001b[38;5;124m() only accepts keyword arguments.\u001b[39m\u001b[38;5;124m\"\u001b[39m\n\u001b[1;32m    563\u001b[0m     )\n\u001b[1;32m    564\u001b[0m \u001b[38;5;66;03m# The \"self\" in this scope is referring to the BaseClient.\u001b[39;00m\n\u001b[0;32m--> 565\u001b[0m \u001b[38;5;28;01mreturn\u001b[39;00m \u001b[38;5;28;43mself\u001b[39;49m\u001b[38;5;241;43m.\u001b[39;49m\u001b[43m_make_api_call\u001b[49m\u001b[43m(\u001b[49m\u001b[43moperation_name\u001b[49m\u001b[43m,\u001b[49m\u001b[43m \u001b[49m\u001b[43mkwargs\u001b[49m\u001b[43m)\u001b[49m\n",
      "File \u001b[0;32m~/.pyenv/versions/pypy3.9-7.3.11/lib/pypy3.9/site-packages/botocore/client.py:1021\u001b[0m, in \u001b[0;36mBaseClient._make_api_call\u001b[0;34m(self, operation_name, api_params)\u001b[0m\n\u001b[1;32m   1017\u001b[0m     error_code \u001b[38;5;241m=\u001b[39m error_info\u001b[38;5;241m.\u001b[39mget(\u001b[38;5;124m\"\u001b[39m\u001b[38;5;124mQueryErrorCode\u001b[39m\u001b[38;5;124m\"\u001b[39m) \u001b[38;5;129;01mor\u001b[39;00m error_info\u001b[38;5;241m.\u001b[39mget(\n\u001b[1;32m   1018\u001b[0m         \u001b[38;5;124m\"\u001b[39m\u001b[38;5;124mCode\u001b[39m\u001b[38;5;124m\"\u001b[39m\n\u001b[1;32m   1019\u001b[0m     )\n\u001b[1;32m   1020\u001b[0m     error_class \u001b[38;5;241m=\u001b[39m \u001b[38;5;28mself\u001b[39m\u001b[38;5;241m.\u001b[39mexceptions\u001b[38;5;241m.\u001b[39mfrom_code(error_code)\n\u001b[0;32m-> 1021\u001b[0m     \u001b[38;5;28;01mraise\u001b[39;00m error_class(parsed_response, operation_name)\n\u001b[1;32m   1022\u001b[0m \u001b[38;5;28;01melse\u001b[39;00m:\n\u001b[1;32m   1023\u001b[0m     \u001b[38;5;28;01mreturn\u001b[39;00m parsed_response\n",
      "\u001b[0;31mClientError\u001b[0m: An error occurred (DryRunOperation) when calling the DeregisterImage operation: Request would have succeeded, but DryRun flag is set."
     ]
    }
   ],
   "source": [
    "client = boto3.client('ec2')\n",
    "\n",
    "response = client.deregister_image(\n",
    "    ImageId='string',\n",
    "    DryRun=True|False\n",
    ")\n",
    "print(response)"
   ]
  },
  {
   "cell_type": "code",
   "execution_count": 48,
   "metadata": {},
   "outputs": [
    {
     "ename": "NameError",
     "evalue": "name 'images' is not defined",
     "output_type": "error",
     "traceback": [
      "\u001b[0;31m---------------------------------------------------------------------------\u001b[0m",
      "\u001b[0;31mNameError\u001b[0m                                 Traceback (most recent call last)",
      "Cell \u001b[0;32mIn[48], line 1\u001b[0m\n\u001b[0;32m----> 1\u001b[0m \u001b[38;5;28;01mfor\u001b[39;00m image \u001b[38;5;129;01min\u001b[39;00m \u001b[43mimages\u001b[49m[\u001b[38;5;124m'\u001b[39m\u001b[38;5;124mImages\u001b[39m\u001b[38;5;124m'\u001b[39m]:\n\u001b[1;32m      2\u001b[0m     ImageId\u001b[38;5;241m=\u001b[39mimage[\u001b[38;5;124m'\u001b[39m\u001b[38;5;124mImageId\u001b[39m\u001b[38;5;124m'\u001b[39m]\n\u001b[1;32m      3\u001b[0m     client\u001b[38;5;241m.\u001b[39mderegister_image(ImageId\u001b[38;5;241m=\u001b[39mimage[\u001b[38;5;124m'\u001b[39m\u001b[38;5;124mImageid\u001b[39m\u001b[38;5;124m'\u001b[39m])\n",
      "\u001b[0;31mNameError\u001b[0m: name 'images' is not defined"
     ]
    }
   ],
   "source": [
    "ec2_client =boto3.client('ec2', region_name='eu-west-1')\n",
    "images = ec2_client.describe_images(Owners=['self'])\n",
    "\n",
    "for image in images['Images']:\n",
    "    ImageId=image['ImageId']\n",
    "    client.deregister_image(ImageId=image['Imageid'])\n",
    "print(f\"Derreegisterd Images: {ImageId}\")"
   ]
  }
 ],
 "metadata": {
  "kernelspec": {
   "display_name": "Python 3",
   "language": "python",
   "name": "python3"
  },
  "language_info": {
   "codemirror_mode": {
    "name": "ipython",
    "version": 3
   },
   "file_extension": ".py",
   "mimetype": "text/x-python",
   "name": "python",
   "nbconvert_exporter": "python",
   "pygments_lexer": "ipython3",
   "version": "3.9.16"
  }
 },
 "nbformat": 4,
 "nbformat_minor": 2
}
